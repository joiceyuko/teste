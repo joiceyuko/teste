{
  "cells": [
    {
      "cell_type": "markdown",
      "metadata": {
        "id": "view-in-github",
        "colab_type": "text"
      },
      "source": [
        "<a href=\"https://colab.research.google.com/github/joiceyuko/teste/blob/main/Joice_Projeto_Imers%C3%A3o_IA_da_Alura_e_Google_2024.ipynb\" target=\"_parent\"><img src=\"https://colab.research.google.com/assets/colab-badge.svg\" alt=\"Open In Colab\"/></a>"
      ]
    },
    {
      "cell_type": "markdown",
      "metadata": {
        "id": "G5MuUfuH1ekf"
      },
      "source": [
        "Instalando o SDK do Google"
      ]
    },
    {
      "cell_type": "code",
      "execution_count": null,
      "metadata": {
        "id": "W7XEcBrwpVO4"
      },
      "outputs": [],
      "source": [
        "!pip install -q -U google-generativeai"
      ]
    },
    {
      "cell_type": "code",
      "execution_count": null,
      "metadata": {
        "id": "M4C1b6TtTrq5"
      },
      "outputs": [],
      "source": [
        "# Import the Python SDK\n",
        "import google.generativeai as genai\n",
        "import numpy as np\n",
        "import pandas as pd\n",
        "from google.colab import userdata\n",
        "api_key=userdata.get('SECRET_KEY')\n",
        "genai.configure(api_key=api_key)"
      ]
    },
    {
      "cell_type": "markdown",
      "metadata": {
        "id": "SmVztKiW1yp3"
      },
      "source": [
        "Listar os modelos disponíveis"
      ]
    },
    {
      "cell_type": "code",
      "execution_count": null,
      "metadata": {
        "colab": {
          "base_uri": "https://localhost:8080/",
          "height": 139
        },
        "id": "6d0ZIKxb14YV",
        "outputId": "3401114d-cd94-4612-c605-b1f1577add68"
      },
      "outputs": [
        {
          "output_type": "stream",
          "name": "stdout",
          "text": [
            "models/gemini-1.0-pro\n",
            "models/gemini-1.0-pro-001\n",
            "models/gemini-1.0-pro-latest\n",
            "models/gemini-1.0-pro-vision-latest\n",
            "models/gemini-1.5-pro-latest\n",
            "models/gemini-pro\n",
            "models/gemini-pro-vision\n"
          ]
        }
      ],
      "source": [
        "for m in genai.list_models():\n",
        "  if 'generateContent' in m.supported_generation_methods:\n",
        "    print(m.name)"
      ]
    },
    {
      "cell_type": "markdown",
      "metadata": {
        "id": "aNGHweEIW2GZ"
      },
      "source": [
        "Misturando com aula 5 sobre embedding"
      ]
    },
    {
      "cell_type": "code",
      "execution_count": null,
      "metadata": {
        "colab": {
          "base_uri": "https://localhost:8080/",
          "height": 52
        },
        "id": "aLvqHDB8W1XR",
        "outputId": "45a50a61-8aae-4204-bae4-97ef3441ada5"
      },
      "outputs": [
        {
          "output_type": "stream",
          "name": "stdout",
          "text": [
            "models/embedding-001\n",
            "models/text-embedding-004\n"
          ]
        }
      ],
      "source": [
        "for m in genai.list_models():\n",
        "  if 'embedContent' in m. supported_generation_methods:\n",
        "    print(m.name)"
      ]
    },
    {
      "cell_type": "code",
      "execution_count": null,
      "metadata": {
        "id": "LBnUzmGF1_lX"
      },
      "outputs": [],
      "source": [
        "generation_config = {\n",
        "   \"candate_count\": 1,\n",
        "    \"temperature\": 0.5,\n",
        "}"
      ]
    },
    {
      "cell_type": "code",
      "execution_count": null,
      "metadata": {
        "id": "lklLxsE33Isf"
      },
      "outputs": [],
      "source": [
        "safety_settings = {\n",
        "      \"HARASSMENT\": \"BLOCK_NONE\",\n",
        "      \"HATE\": \"BLOCK_NONE\",\n",
        "      \"DANGEROUS\": \"BLOCK_NONE\",\n",
        "}"
      ]
    },
    {
      "cell_type": "markdown",
      "metadata": {
        "id": "oAiObic_30Rf"
      },
      "source": [
        "Inicializando o modelo"
      ]
    },
    {
      "cell_type": "code",
      "execution_count": null,
      "metadata": {
        "id": "9aH0LTiA3zLP"
      },
      "outputs": [],
      "source": [
        "model = genai.GenerativeModel(\"models/gemini-1.0-pro\",\n",
        "                              generation_config = generation_config,\n",
        "                              safety_settings = safety_settings\n",
        "                              )"
      ]
    },
    {
      "cell_type": "code",
      "execution_count": null,
      "metadata": {
        "id": "TAjoUWWq597P"
      },
      "outputs": [],
      "source": [
        "model = genai.GenerativeModel(\"models/gemini-pro\")"
      ]
    },
    {
      "cell_type": "code",
      "execution_count": null,
      "metadata": {
        "colab": {
          "base_uri": "https://localhost:8080/",
          "height": 575
        },
        "collapsed": true,
        "id": "In8dx3Ks5BAo",
        "outputId": "067ee6fc-a208-46d1-aae5-3f5e0b399b81"
      },
      "outputs": [
        {
          "output_type": "stream",
          "name": "stdout",
          "text": [
            "**Recursos Online**\n",
            "\n",
            "* **Coursera:** Cursos sobre IA, aprendizado de máquina e aprendizado profundo oferecidos por universidades como Stanford e Johns Hopkins.\n",
            "* **edX:** Cursos de IA, ciência de dados e aprendizado profundo oferecidos pelo MIT, Harvard e outras instituições de renome.\n",
            "* **Udemy:** Uma plataforma de e-learning com uma ampla gama de cursos de IA, desde o básico até o avançado.\n",
            "* **YouTube:** Canais como Coursera, edX e Stanford Online oferecem vídeos educacionais gratuitos sobre IA.\n",
            "\n",
            "**Livros**\n",
            "\n",
            "* **Inteligência Artificial: Uma Abordagem Moderna (3ª Edição)** por Stuart Russell e Peter Norvig\n",
            "* ** Aprendizado de Máquina (4ª Edição)** por Ethem Alpaydin\n",
            "* ** Aprendizado Profundo** por Ian Goodfellow, Yoshua Bengio e Aaron Courville\n",
            "* ** Inteligência Artificial para Negócios: Guia do Executivo ** por Thomas Davenport e Rajeev Ronanki\n",
            "\n",
            "**Artigos e Publicações Acadêmicas**\n",
            "\n",
            "* **Nature Machine Intelligence:** Revista científica que publica pesquisas de ponta em IA.\n",
            "* **AAAI (Associação para o Avanço da Inteligência Artificial):** Conferência e organização líder que publica pesquisas e artigos sobre IA.\n",
            "* **IEEE Transactions on Intelligent Systems and Applications:** Jornal acadêmico que cobre todos os aspectos da IA.\n",
            "\n",
            "**Podcasts**\n",
            "\n",
            "* **The AI Podcast:** Entrevistas com especialistas da indústria e acadêmicos sobre os últimos avanços em IA.\n",
            "* **Machine Learning Podcast:** Discussões técnicas sobre algoritmos, técnicas e aplicações de aprendizado de máquina.\n",
            "* **DataFramed:** Podcast que explora tópicos em ciência de dados, aprendizado de máquina e IA.\n",
            "\n",
            "** Comunidades e Eventos**\n",
            "\n",
            "* **Meetup.com:** Grupos de encontro locais que organizam eventos e palestras sobre IA.\n",
            "* **Conferências:** Eventos da indústria, como o NeurIPS e o ICCV, onde pesquisadores e profissionais se reúnem para apresentar e discutir os avanços em IA.\n",
            "* **Comunidades online:** Fóruns e plataformas de discussão como o Reddit (r/MachineLearning) e o Stack Overflow (tag de IA).\n"
          ]
        }
      ],
      "source": [
        "response = model.generate_content(\"Vamos aprender conteúdo sobre IA. Me dê sugestões.\")\n",
        "print(response.text)"
      ]
    },
    {
      "cell_type": "code",
      "execution_count": null,
      "metadata": {
        "id": "cbyZLgan5fW3"
      },
      "outputs": [],
      "source": [
        "chat = model.start_chat(history=[])"
      ]
    },
    {
      "cell_type": "code",
      "execution_count": null,
      "metadata": {
        "colab": {
          "base_uri": "https://localhost:8080/",
          "height": 86
        },
        "collapsed": true,
        "id": "TV1SylNM6mo_",
        "outputId": "39680cbd-4622-4999-b6b5-a651732f8db8"
      },
      "outputs": [
        {
          "name": "stdout",
          "output_type": "stream",
          "text": [
            "Esperando prompt (para sair digite fim): Qual pais tem mais habitantes?\n",
            "Resposta:  China \n",
            "\n",
            "Esperando prompt (para sair digite fim): fim\n"
          ]
        }
      ],
      "source": [
        "prompt = input(\"Esperando prompt (para sair digite fim): \")\n",
        "\n",
        "while prompt != \"fim\":\n",
        "  response = chat.send_message(prompt)\n",
        "  print(\"Resposta: \", response.text, \"\\n\")\n",
        "  prompt = input(\"Esperando prompt (para sair digite fim): \")"
      ]
    },
    {
      "cell_type": "code",
      "execution_count": null,
      "metadata": {
        "colab": {
          "base_uri": "https://localhost:8080/"
        },
        "collapsed": true,
        "id": "rI-RYQSq-4Sz",
        "outputId": "bb9a2a42-2214-4319-a1f3-cacfe89a9ab6"
      },
      "outputs": [
        {
          "output_type": "execute_result",
          "data": {
            "text/plain": [
              "[parts {\n",
              "   text: \"Qual pais tem mais habitantes?\"\n",
              " }\n",
              " role: \"user\",\n",
              " parts {\n",
              "   text: \"China\"\n",
              " }\n",
              " role: \"model\"]"
            ]
          },
          "metadata": {},
          "execution_count": 13
        }
      ],
      "source": [
        "chat.history"
      ]
    },
    {
      "cell_type": "code",
      "execution_count": null,
      "metadata": {
        "colab": {
          "base_uri": "https://localhost:8080/",
          "height": 142
        },
        "collapsed": true,
        "id": "dwsNxeR196rv",
        "outputId": "77fce316-c110-4fcf-e6c0-554b53617d29"
      },
      "outputs": [
        {
          "output_type": "display_data",
          "data": {
            "text/plain": [
              "<IPython.core.display.Markdown object>"
            ],
            "text/markdown": "> **user**: Qual pais tem mais habitantes?"
          },
          "metadata": {}
        },
        {
          "output_type": "stream",
          "name": "stdout",
          "text": [
            "---------------------------------------------------\n"
          ]
        },
        {
          "output_type": "display_data",
          "data": {
            "text/plain": [
              "<IPython.core.display.Markdown object>"
            ],
            "text/markdown": "> **model**: China"
          },
          "metadata": {}
        },
        {
          "output_type": "stream",
          "name": "stdout",
          "text": [
            "---------------------------------------------------\n"
          ]
        }
      ],
      "source": [
        "#Melhorando a visualização\n",
        "#Código disponível em https://ai.google.dev/tutorials/python_quickstart#import_packages\n",
        "\n",
        "import textwrap\n",
        "from IPython.display import display\n",
        "\n",
        "from IPython.display import Markdown\n",
        "\n",
        "def to_markdown(text):\n",
        "  text = text.replace('.', '  *')\n",
        "  return Markdown(textwrap.indent(text, '> ', predicate=lambda _: True))\n",
        "\n",
        "# Imprimindo o histórico\n",
        "for message in chat.history:\n",
        "  display(to_markdown(f'**{message.role}**: {message.parts[0].text}'))\n",
        "  print('---------------------------------------------------')\n",
        "\n"
      ]
    },
    {
      "cell_type": "markdown",
      "metadata": {
        "id": "OUSn8a2p67q7"
      },
      "source": [
        "**Sobre embedding para gerar a base de dados e evitar alucinação do modelo:**"
      ]
    },
    {
      "cell_type": "code",
      "execution_count": null,
      "metadata": {
        "id": "nf4NoNY6X81E"
      },
      "outputs": [],
      "source": [
        "MEDICA1= {\"Nome\": \"Joana Maria dos Santos\",\n",
        "  \"Horários disponíveis\": \"8:00, 9:00, 10:00, 11:00, 14:00, 15:00, 16:00, 17:00\",\n",
        "  \"Especialidade\": \"Cardiologista\"\n",
        "}\n",
        "\n",
        "MEDICA2= {\"Nome\": \"Ana Claudia Braga\",\n",
        "  \"Horários disponíveis\": \"7:00, 10:30, 16:00, 17:00\",\n",
        "  \"Especialidade\": \"Pedriatra\"\n",
        "}\n",
        "\n",
        "MEDICA3= {\"Nome\": \"Leticia Akemi Morimura\",\n",
        "  \"Horários disponíveis\": \"6:00, 9:00, 13:00, 11:00, 14:00, 15:00, 16:00, 17:00\",\n",
        "  \"Especialidade\": \"Otorrinolaringologista\"\n",
        "}\n"
      ]
    },
    {
      "cell_type": "code",
      "execution_count": null,
      "metadata": {
        "colab": {
          "base_uri": "https://localhost:8080/"
        },
        "id": "R_wq1JJCZyb0",
        "outputId": "918996a6-0661-4134-e6a9-7100e031a935"
      },
      "outputs": [
        {
          "output_type": "stream",
          "name": "stdout",
          "text": [
            "[{'Nome': 'Joana Maria dos Santos', 'Horários disponíveis': '8:00, 9:00, 10:00, 11:00, 14:00, 15:00, 16:00, 17:00', 'Especialidade': 'Cardiologista'}, {'Nome': 'Ana Claudia Braga', 'Horários disponíveis': '7:00, 10:30, 16:00, 17:00', 'Especialidade': 'Pedriatra'}, {'Nome': 'Leticia Akemi Morimura', 'Horários disponíveis': '6:00, 9:00, 13:00, 11:00, 14:00, 15:00, 16:00, 17:00', 'Especialidade': 'Otorrinolaringologista'}]\n"
          ]
        }
      ],
      "source": [
        "base_horario_medicas = [MEDICA1, MEDICA2, MEDICA3]\n",
        "print(base_horario_medicas)"
      ]
    },
    {
      "cell_type": "code",
      "execution_count": null,
      "metadata": {
        "colab": {
          "base_uri": "https://localhost:8080/",
          "height": 143
        },
        "id": "v255pHGfZ_3M",
        "outputId": "89825a26-a8a7-4e1f-88db-d8c8b371938f"
      },
      "outputs": [
        {
          "output_type": "execute_result",
          "data": {
            "text/plain": [
              "                     Nome                               Horários disponíveis  \\\n",
              "0  Joana Maria dos Santos  8:00, 9:00, 10:00, 11:00, 14:00, 15:00, 16:00,...   \n",
              "1       Ana Claudia Braga                          7:00, 10:30, 16:00, 17:00   \n",
              "2  Leticia Akemi Morimura  6:00, 9:00, 13:00, 11:00, 14:00, 15:00, 16:00,...   \n",
              "\n",
              "            Especialidade  \n",
              "0           Cardiologista  \n",
              "1               Pedriatra  \n",
              "2  Otorrinolaringologista  "
            ],
            "text/html": [
              "\n",
              "  <div id=\"df-fc65c53b-3e3b-4e88-ba0a-5778db229f78\" class=\"colab-df-container\">\n",
              "    <div>\n",
              "<style scoped>\n",
              "    .dataframe tbody tr th:only-of-type {\n",
              "        vertical-align: middle;\n",
              "    }\n",
              "\n",
              "    .dataframe tbody tr th {\n",
              "        vertical-align: top;\n",
              "    }\n",
              "\n",
              "    .dataframe thead th {\n",
              "        text-align: right;\n",
              "    }\n",
              "</style>\n",
              "<table border=\"1\" class=\"dataframe\">\n",
              "  <thead>\n",
              "    <tr style=\"text-align: right;\">\n",
              "      <th></th>\n",
              "      <th>Nome</th>\n",
              "      <th>Horários disponíveis</th>\n",
              "      <th>Especialidade</th>\n",
              "    </tr>\n",
              "  </thead>\n",
              "  <tbody>\n",
              "    <tr>\n",
              "      <th>0</th>\n",
              "      <td>Joana Maria dos Santos</td>\n",
              "      <td>8:00, 9:00, 10:00, 11:00, 14:00, 15:00, 16:00,...</td>\n",
              "      <td>Cardiologista</td>\n",
              "    </tr>\n",
              "    <tr>\n",
              "      <th>1</th>\n",
              "      <td>Ana Claudia Braga</td>\n",
              "      <td>7:00, 10:30, 16:00, 17:00</td>\n",
              "      <td>Pedriatra</td>\n",
              "    </tr>\n",
              "    <tr>\n",
              "      <th>2</th>\n",
              "      <td>Leticia Akemi Morimura</td>\n",
              "      <td>6:00, 9:00, 13:00, 11:00, 14:00, 15:00, 16:00,...</td>\n",
              "      <td>Otorrinolaringologista</td>\n",
              "    </tr>\n",
              "  </tbody>\n",
              "</table>\n",
              "</div>\n",
              "    <div class=\"colab-df-buttons\">\n",
              "\n",
              "  <div class=\"colab-df-container\">\n",
              "    <button class=\"colab-df-convert\" onclick=\"convertToInteractive('df-fc65c53b-3e3b-4e88-ba0a-5778db229f78')\"\n",
              "            title=\"Convert this dataframe to an interactive table.\"\n",
              "            style=\"display:none;\">\n",
              "\n",
              "  <svg xmlns=\"http://www.w3.org/2000/svg\" height=\"24px\" viewBox=\"0 -960 960 960\">\n",
              "    <path d=\"M120-120v-720h720v720H120Zm60-500h600v-160H180v160Zm220 220h160v-160H400v160Zm0 220h160v-160H400v160ZM180-400h160v-160H180v160Zm440 0h160v-160H620v160ZM180-180h160v-160H180v160Zm440 0h160v-160H620v160Z\"/>\n",
              "  </svg>\n",
              "    </button>\n",
              "\n",
              "  <style>\n",
              "    .colab-df-container {\n",
              "      display:flex;\n",
              "      gap: 12px;\n",
              "    }\n",
              "\n",
              "    .colab-df-convert {\n",
              "      background-color: #E8F0FE;\n",
              "      border: none;\n",
              "      border-radius: 50%;\n",
              "      cursor: pointer;\n",
              "      display: none;\n",
              "      fill: #1967D2;\n",
              "      height: 32px;\n",
              "      padding: 0 0 0 0;\n",
              "      width: 32px;\n",
              "    }\n",
              "\n",
              "    .colab-df-convert:hover {\n",
              "      background-color: #E2EBFA;\n",
              "      box-shadow: 0px 1px 2px rgba(60, 64, 67, 0.3), 0px 1px 3px 1px rgba(60, 64, 67, 0.15);\n",
              "      fill: #174EA6;\n",
              "    }\n",
              "\n",
              "    .colab-df-buttons div {\n",
              "      margin-bottom: 4px;\n",
              "    }\n",
              "\n",
              "    [theme=dark] .colab-df-convert {\n",
              "      background-color: #3B4455;\n",
              "      fill: #D2E3FC;\n",
              "    }\n",
              "\n",
              "    [theme=dark] .colab-df-convert:hover {\n",
              "      background-color: #434B5C;\n",
              "      box-shadow: 0px 1px 3px 1px rgba(0, 0, 0, 0.15);\n",
              "      filter: drop-shadow(0px 1px 2px rgba(0, 0, 0, 0.3));\n",
              "      fill: #FFFFFF;\n",
              "    }\n",
              "  </style>\n",
              "\n",
              "    <script>\n",
              "      const buttonEl =\n",
              "        document.querySelector('#df-fc65c53b-3e3b-4e88-ba0a-5778db229f78 button.colab-df-convert');\n",
              "      buttonEl.style.display =\n",
              "        google.colab.kernel.accessAllowed ? 'block' : 'none';\n",
              "\n",
              "      async function convertToInteractive(key) {\n",
              "        const element = document.querySelector('#df-fc65c53b-3e3b-4e88-ba0a-5778db229f78');\n",
              "        const dataTable =\n",
              "          await google.colab.kernel.invokeFunction('convertToInteractive',\n",
              "                                                    [key], {});\n",
              "        if (!dataTable) return;\n",
              "\n",
              "        const docLinkHtml = 'Like what you see? Visit the ' +\n",
              "          '<a target=\"_blank\" href=https://colab.research.google.com/notebooks/data_table.ipynb>data table notebook</a>'\n",
              "          + ' to learn more about interactive tables.';\n",
              "        element.innerHTML = '';\n",
              "        dataTable['output_type'] = 'display_data';\n",
              "        await google.colab.output.renderOutput(dataTable, element);\n",
              "        const docLink = document.createElement('div');\n",
              "        docLink.innerHTML = docLinkHtml;\n",
              "        element.appendChild(docLink);\n",
              "      }\n",
              "    </script>\n",
              "  </div>\n",
              "\n",
              "\n",
              "<div id=\"df-2e165a1b-a23a-4159-ab6a-78bb44985cdf\">\n",
              "  <button class=\"colab-df-quickchart\" onclick=\"quickchart('df-2e165a1b-a23a-4159-ab6a-78bb44985cdf')\"\n",
              "            title=\"Suggest charts\"\n",
              "            style=\"display:none;\">\n",
              "\n",
              "<svg xmlns=\"http://www.w3.org/2000/svg\" height=\"24px\"viewBox=\"0 0 24 24\"\n",
              "     width=\"24px\">\n",
              "    <g>\n",
              "        <path d=\"M19 3H5c-1.1 0-2 .9-2 2v14c0 1.1.9 2 2 2h14c1.1 0 2-.9 2-2V5c0-1.1-.9-2-2-2zM9 17H7v-7h2v7zm4 0h-2V7h2v10zm4 0h-2v-4h2v4z\"/>\n",
              "    </g>\n",
              "</svg>\n",
              "  </button>\n",
              "\n",
              "<style>\n",
              "  .colab-df-quickchart {\n",
              "      --bg-color: #E8F0FE;\n",
              "      --fill-color: #1967D2;\n",
              "      --hover-bg-color: #E2EBFA;\n",
              "      --hover-fill-color: #174EA6;\n",
              "      --disabled-fill-color: #AAA;\n",
              "      --disabled-bg-color: #DDD;\n",
              "  }\n",
              "\n",
              "  [theme=dark] .colab-df-quickchart {\n",
              "      --bg-color: #3B4455;\n",
              "      --fill-color: #D2E3FC;\n",
              "      --hover-bg-color: #434B5C;\n",
              "      --hover-fill-color: #FFFFFF;\n",
              "      --disabled-bg-color: #3B4455;\n",
              "      --disabled-fill-color: #666;\n",
              "  }\n",
              "\n",
              "  .colab-df-quickchart {\n",
              "    background-color: var(--bg-color);\n",
              "    border: none;\n",
              "    border-radius: 50%;\n",
              "    cursor: pointer;\n",
              "    display: none;\n",
              "    fill: var(--fill-color);\n",
              "    height: 32px;\n",
              "    padding: 0;\n",
              "    width: 32px;\n",
              "  }\n",
              "\n",
              "  .colab-df-quickchart:hover {\n",
              "    background-color: var(--hover-bg-color);\n",
              "    box-shadow: 0 1px 2px rgba(60, 64, 67, 0.3), 0 1px 3px 1px rgba(60, 64, 67, 0.15);\n",
              "    fill: var(--button-hover-fill-color);\n",
              "  }\n",
              "\n",
              "  .colab-df-quickchart-complete:disabled,\n",
              "  .colab-df-quickchart-complete:disabled:hover {\n",
              "    background-color: var(--disabled-bg-color);\n",
              "    fill: var(--disabled-fill-color);\n",
              "    box-shadow: none;\n",
              "  }\n",
              "\n",
              "  .colab-df-spinner {\n",
              "    border: 2px solid var(--fill-color);\n",
              "    border-color: transparent;\n",
              "    border-bottom-color: var(--fill-color);\n",
              "    animation:\n",
              "      spin 1s steps(1) infinite;\n",
              "  }\n",
              "\n",
              "  @keyframes spin {\n",
              "    0% {\n",
              "      border-color: transparent;\n",
              "      border-bottom-color: var(--fill-color);\n",
              "      border-left-color: var(--fill-color);\n",
              "    }\n",
              "    20% {\n",
              "      border-color: transparent;\n",
              "      border-left-color: var(--fill-color);\n",
              "      border-top-color: var(--fill-color);\n",
              "    }\n",
              "    30% {\n",
              "      border-color: transparent;\n",
              "      border-left-color: var(--fill-color);\n",
              "      border-top-color: var(--fill-color);\n",
              "      border-right-color: var(--fill-color);\n",
              "    }\n",
              "    40% {\n",
              "      border-color: transparent;\n",
              "      border-right-color: var(--fill-color);\n",
              "      border-top-color: var(--fill-color);\n",
              "    }\n",
              "    60% {\n",
              "      border-color: transparent;\n",
              "      border-right-color: var(--fill-color);\n",
              "    }\n",
              "    80% {\n",
              "      border-color: transparent;\n",
              "      border-right-color: var(--fill-color);\n",
              "      border-bottom-color: var(--fill-color);\n",
              "    }\n",
              "    90% {\n",
              "      border-color: transparent;\n",
              "      border-bottom-color: var(--fill-color);\n",
              "    }\n",
              "  }\n",
              "</style>\n",
              "\n",
              "  <script>\n",
              "    async function quickchart(key) {\n",
              "      const quickchartButtonEl =\n",
              "        document.querySelector('#' + key + ' button');\n",
              "      quickchartButtonEl.disabled = true;  // To prevent multiple clicks.\n",
              "      quickchartButtonEl.classList.add('colab-df-spinner');\n",
              "      try {\n",
              "        const charts = await google.colab.kernel.invokeFunction(\n",
              "            'suggestCharts', [key], {});\n",
              "      } catch (error) {\n",
              "        console.error('Error during call to suggestCharts:', error);\n",
              "      }\n",
              "      quickchartButtonEl.classList.remove('colab-df-spinner');\n",
              "      quickchartButtonEl.classList.add('colab-df-quickchart-complete');\n",
              "    }\n",
              "    (() => {\n",
              "      let quickchartButtonEl =\n",
              "        document.querySelector('#df-2e165a1b-a23a-4159-ab6a-78bb44985cdf button');\n",
              "      quickchartButtonEl.style.display =\n",
              "        google.colab.kernel.accessAllowed ? 'block' : 'none';\n",
              "    })();\n",
              "  </script>\n",
              "</div>\n",
              "\n",
              "  <div id=\"id_7e88839a-4472-432e-a1cb-757ea2c1a3e2\">\n",
              "    <style>\n",
              "      .colab-df-generate {\n",
              "        background-color: #E8F0FE;\n",
              "        border: none;\n",
              "        border-radius: 50%;\n",
              "        cursor: pointer;\n",
              "        display: none;\n",
              "        fill: #1967D2;\n",
              "        height: 32px;\n",
              "        padding: 0 0 0 0;\n",
              "        width: 32px;\n",
              "      }\n",
              "\n",
              "      .colab-df-generate:hover {\n",
              "        background-color: #E2EBFA;\n",
              "        box-shadow: 0px 1px 2px rgba(60, 64, 67, 0.3), 0px 1px 3px 1px rgba(60, 64, 67, 0.15);\n",
              "        fill: #174EA6;\n",
              "      }\n",
              "\n",
              "      [theme=dark] .colab-df-generate {\n",
              "        background-color: #3B4455;\n",
              "        fill: #D2E3FC;\n",
              "      }\n",
              "\n",
              "      [theme=dark] .colab-df-generate:hover {\n",
              "        background-color: #434B5C;\n",
              "        box-shadow: 0px 1px 3px 1px rgba(0, 0, 0, 0.15);\n",
              "        filter: drop-shadow(0px 1px 2px rgba(0, 0, 0, 0.3));\n",
              "        fill: #FFFFFF;\n",
              "      }\n",
              "    </style>\n",
              "    <button class=\"colab-df-generate\" onclick=\"generateWithVariable('df')\"\n",
              "            title=\"Generate code using this dataframe.\"\n",
              "            style=\"display:none;\">\n",
              "\n",
              "  <svg xmlns=\"http://www.w3.org/2000/svg\" height=\"24px\"viewBox=\"0 0 24 24\"\n",
              "       width=\"24px\">\n",
              "    <path d=\"M7,19H8.4L18.45,9,17,7.55,7,17.6ZM5,21V16.75L18.45,3.32a2,2,0,0,1,2.83,0l1.4,1.43a1.91,1.91,0,0,1,.58,1.4,1.91,1.91,0,0,1-.58,1.4L9.25,21ZM18.45,9,17,7.55Zm-12,3A5.31,5.31,0,0,0,4.9,8.1,5.31,5.31,0,0,0,1,6.5,5.31,5.31,0,0,0,4.9,4.9,5.31,5.31,0,0,0,6.5,1,5.31,5.31,0,0,0,8.1,4.9,5.31,5.31,0,0,0,12,6.5,5.46,5.46,0,0,0,6.5,12Z\"/>\n",
              "  </svg>\n",
              "    </button>\n",
              "    <script>\n",
              "      (() => {\n",
              "      const buttonEl =\n",
              "        document.querySelector('#id_7e88839a-4472-432e-a1cb-757ea2c1a3e2 button.colab-df-generate');\n",
              "      buttonEl.style.display =\n",
              "        google.colab.kernel.accessAllowed ? 'block' : 'none';\n",
              "\n",
              "      buttonEl.onclick = () => {\n",
              "        google.colab.notebook.generateWithVariable('df');\n",
              "      }\n",
              "      })();\n",
              "    </script>\n",
              "  </div>\n",
              "\n",
              "    </div>\n",
              "  </div>\n"
            ],
            "application/vnd.google.colaboratory.intrinsic+json": {
              "type": "dataframe",
              "variable_name": "df",
              "summary": "{\n  \"name\": \"df\",\n  \"rows\": 3,\n  \"fields\": [\n    {\n      \"column\": \"Nome\",\n      \"properties\": {\n        \"dtype\": \"string\",\n        \"num_unique_values\": 3,\n        \"samples\": [\n          \"Joana Maria dos Santos\",\n          \"Ana Claudia Braga\",\n          \"Leticia Akemi Morimura\"\n        ],\n        \"semantic_type\": \"\",\n        \"description\": \"\"\n      }\n    },\n    {\n      \"column\": \"Hor\\u00e1rios dispon\\u00edveis\",\n      \"properties\": {\n        \"dtype\": \"object\",\n        \"num_unique_values\": 3,\n        \"samples\": [\n          \"8:00, 9:00, 10:00, 11:00, 14:00, 15:00, 16:00, 17:00\",\n          \"7:00, 10:30, 16:00, 17:00\",\n          \"6:00, 9:00, 13:00, 11:00, 14:00, 15:00, 16:00, 17:00\"\n        ],\n        \"semantic_type\": \"\",\n        \"description\": \"\"\n      }\n    },\n    {\n      \"column\": \"Especialidade\",\n      \"properties\": {\n        \"dtype\": \"string\",\n        \"num_unique_values\": 3,\n        \"samples\": [\n          \"Cardiologista\",\n          \"Pedriatra\",\n          \"Otorrinolaringologista\"\n        ],\n        \"semantic_type\": \"\",\n        \"description\": \"\"\n      }\n    }\n  ]\n}"
            }
          },
          "metadata": {},
          "execution_count": 17
        }
      ],
      "source": [
        "df = pd.DataFrame(base_horario_medicas)\n",
        "df"
      ]
    },
    {
      "cell_type": "code",
      "execution_count": null,
      "metadata": {
        "id": "JwZTOOBVakKs"
      },
      "outputs": [],
      "source": [
        "model = \"models/embedding-001\""
      ]
    },
    {
      "cell_type": "code",
      "execution_count": null,
      "metadata": {
        "id": "8ysNr-EQbSKW"
      },
      "outputs": [],
      "source": [
        "def embed_fn(medica, horario):\n",
        "  return genai.embed_content(model = model,\n",
        "                             content=horario,\n",
        "                             title=medica)"
      ]
    },
    {
      "cell_type": "code",
      "execution_count": null,
      "metadata": {
        "id": "ZDhcTljMhQ9U"
      },
      "outputs": [],
      "source": [
        "def agendamento(alternativa):\n",
        "  prompt = input(\"Olá, você está conversando com uma assistente de agendamento de horários com nossas médicas,\"  \"\\n\" \"escolha qual médica você deseja se consultar:\"\n",
        "                \"\\n\"\n",
        "                \"1: Joana\"\n",
        "                  \"\\n\"\n",
        "                \"2: Ana Claudia\"\n",
        "                  \"\\n\"\n",
        "                \"3: Leticia\"\n",
        "                  \"\\n\")\n",
        "  resposta = chat.send_message(prompt)\n",
        "  while alternativa != 'fim':\n",
        "    if resposta == \"1\":\n",
        "      print(\"horários disponíveis:\", df.iloc[0,1], \"\\n\")\n",
        "      horario = input(\"Qual horário gostaria de marcar? \\n\")\n",
        "      print(\"Horário agendando para:\", horario, \"Você receberá um e-mail de confirmação em instantes \\n\")\n",
        "\n",
        "    elif resposta == 3:\n",
        "      print(\"horários disponíveis:\", df.iloc[1,1], \"\\n\")\n",
        "      horario = input(\"Qual horário gostaria de marcar? \\n\")\n",
        "      print(\"Horário agendando para:\", horario, \"Você receberá um e-mail de confirmação em instantes \\n\")\n",
        "    else:\n",
        "        resposta = input(\"O que gostaria de fazer?: \\n\"\n",
        "      \"1: Escolher outro médica \\n\"\n",
        "      \"2: Quero saber a especialidade de cada uma delas \\n\"\n",
        "      \"3: Encerrar o chat \\n\"\n",
        "      )\n",
        "    return alternativa\n",
        "\n",
        "\n"
      ]
    },
    {
      "cell_type": "code",
      "execution_count": null,
      "metadata": {
        "colab": {
          "base_uri": "https://localhost:8080/"
        },
        "id": "yMF0WHn0jNrJ",
        "outputId": "843b89ce-bf88-4efb-e83d-202d37c132e8"
      },
      "outputs": [
        {
          "output_type": "stream",
          "name": "stdout",
          "text": [
            "Olá, você está conversando com uma assistente de agendamento de horários com nossas médicas,\n",
            "escolha qual médica você deseja se consultar:\n",
            "1: Joana\n",
            "2: Ana Claudia\n",
            "3: Leticia\n",
            "4564\n",
            "O que gostaria de fazer?: \n",
            "1: Escolher outro médica \n",
            "2: Quero saber a especialidade de cada uma delas \n",
            "3: Encerrar o chat \n",
            "2\n",
            "                     Nome           Especialidade\n",
            "0  Joana Maria dos Santos           Cardiologista\n",
            "1       Ana Claudia Braga               Pedriatra\n",
            "2  Leticia Akemi Morimura  Otorrinolaringologista\n",
            "\n",
            "\n",
            "Fim do chat\n"
          ]
        }
      ],
      "source": [
        " #Inicio do chat\n",
        "prompt = input(\"Olá, você está conversando com uma assistente de agendamento de horários com nossas médicas,\"  \"\\n\" \"escolha qual médica você deseja se consultar:\"\n",
        "              \"\\n\"\n",
        "              \"1: Joana\"\n",
        "                \"\\n\"\n",
        "              \"2: Ana Claudia\"\n",
        "                \"\\n\"\n",
        "              \"3: Leticia\"\n",
        "                \"\\n\")\n",
        "\n",
        "prompt = int(prompt)\n",
        "while prompt < 3:\n",
        "  if prompt == 1:\n",
        "    print(\"horários disponíveis:\", df.iloc[0,1], \"\\n\")\n",
        "    horario = input(\"Qual horário gostaria de marcar? \\n\")\n",
        "    print(\"Horário agendando para:\", horario, \"Você receberá um e-mail de confirmação em instantes \\n\")\n",
        "\n",
        "  elif prompt == 2:\n",
        "    print(\"horários disponíveis:\", df.iloc[1,1], \"\\n\")\n",
        "    horario = input(\"Qual horário gostaria de marcar? \\n\")\n",
        "    print(\"Horário agendando para:\", horario, \"Você receberá um e-mail de confirmação em instantes \\n\")\n",
        "  else:\n",
        "    print(\"horários disponíveis:\", df.iloc[2,1], \"\\n\")\n",
        "    horario = input(\"Qual horário gostaria de marcar? \\n\")\n",
        "    print(\"Horário agendando para:\", horario, \"Você receberá um e-mail de confirmação em instantes \\n\")\n",
        "\n",
        "\n",
        "prompt = input(\"O que gostaria de fazer?: \\n\"\n",
        "    \"1: Escolher outro médica \\n\"\n",
        "    \"2: Quero saber a especialidade de cada uma delas \\n\"\n",
        "    \"3: Encerrar o chat \\n\"\n",
        "    )\n",
        "\n",
        "while prompt != 'fim':\n",
        "  response = prompt\n",
        "  if response == \"1\":\n",
        "    agendamento(response)\n",
        "  elif response == \"2\":\n",
        "    print(df[['Nome', 'Especialidade']])\n",
        "    prompt = 'fim'\n",
        "    print(\"\\n\")\n",
        "    print(\"Fim do chat\")\n",
        "  else:\n",
        "    print(\"Fim do chat\")\n"
      ]
    },
    {
      "cell_type": "code",
      "execution_count": null,
      "metadata": {
        "colab": {
          "base_uri": "https://localhost:8080/"
        },
        "collapsed": true,
        "id": "5X1LKYPfw0jy",
        "outputId": "df1caf08-6ce9-4db9-e477-ef60c787fedb"
      },
      "outputs": [
        {
          "data": {
            "text/plain": [
              "[parts {\n",
              "   text: \"Como saber se meu amigo \\303\\251 de confian\\303\\247a?\"\n",
              " }\n",
              " role: \"user\",\n",
              " parts {\n",
              "   text: \"**Observa\\303\\247\\303\\265es e Intera\\303\\247\\303\\265es:**\\n\\n* **Preste aten\\303\\247\\303\\243o \\303\\240s suas palavras e a\\303\\247\\303\\265es:** Amigos confi\\303\\241veis cumprem suas promessas e agem de acordo com seus valores.\\n* **Observe seus relacionamentos com os outros:** Como seu amigo interage com outras pessoas, incluindo voc\\303\\252? Eles s\\303\\243o respeitosos e confi\\303\\241veis?\\n* **Teste sua discri\\303\\247\\303\\243o:** Compartilhe algo confidencial com seu amigo e veja se eles mant\\303\\252m sigilo.\\n* **Observe seus h\\303\\241bitos:** Os amigos confi\\303\\241veis tendem a ser consistentes em seu comportamento e geralmente est\\303\\243o presentes quando voc\\303\\252 precisa deles.\\n* **Note seus motivos:** Por que seu amigo quer ser seu amigo? Eles parecem estar genuinamente interessados em voc\\303\\252 ou h\\303\\241 um motivo oculto?\\n\\n**Caracter\\303\\255sticas Pessoais:**\\n\\n* **Integridade:** Amigos confi\\303\\241veis t\\303\\252m fortes princ\\303\\255pios morais e s\\303\\243o honestos e confi\\303\\241veis.\\n* **Empatia:** Eles podem entender e se relacionar com seus sentimentos e perspectivas.\\n* **Responsabilidade:** Eles assumem a responsabilidade por seus pr\\303\\263prios erros e a\\303\\247\\303\\265es.\\n* **Lealdade:** Eles est\\303\\243o ao seu lado nos bons e maus momentos.\\n* **Suporte:** Eles oferecem apoio emocional e encorajamento quando voc\\303\\252 precisa.\\n\\n**Situa\\303\\247\\303\\265es na Vida Real:**\\n\\n* **Pergunte-lhes por opini\\303\\243o:** Um amigo confi\\303\\241vel fornecer\\303\\241 conselhos honestos e atenciosos, mesmo que n\\303\\243o seja o que voc\\303\\252 quer ouvir.\\n* **Confie-lhes uma tarefa importante:** Veja como eles lidam com a responsabilidade e se cumprir\\303\\243o com suas expectativas.\\n* **Teste seus limites:** Veja como eles reagem quando voc\\303\\252 precisa definir limites ou expressar desconforto.\\n* **Observe como eles lidam com conflitos:** Os amigos confi\\303\\241veis tentar\\303\\243o resolver conflitos de forma justa e respeitosa.\\n\\n**Lembre-se:**\\n\\nConstruir confian\\303\\247a leva tempo e \\303\\251 um processo bidirecional. Seja um amigo confi\\303\\241vel e ofere\\303\\247a o mesmo n\\303\\255vel de confian\\303\\247a que voc\\303\\252 espera receber.\"\n",
              " }\n",
              " role: \"model\",\n",
              " parts {\n",
              "   text: \"Qual livro voc\\303\\252 recomenda para ler sobre IA Generativa\"\n",
              " }\n",
              " role: \"user\",\n",
              " parts {\n",
              "   text: \"**Livros Recomendados sobre IA Generativa:**\\n\\n**Para Iniciantes:**\\n\\n* **Intelig\\303\\252ncia Artificial Generativa para Iniciantes** por Laurence Moroney e Priyanka Agrawal\\n* **Dom\\303\\255nio da IA Generativa: Um Guia Passo a Passo** por Jason Brownlee\\n* **IA Generativa em Python: Um Guia Pr\\303\\241tico** por Daniyal Anis e Shruti Jadon\\n\\n**Para Leitores Intermedi\\303\\241rios:**\\n\\n* **Aprendizado de M\\303\\241quina Generativa** por Andriy Burkov\\n* **Redes Advers\\303\\241rias Generativas: Guia Pr\\303\\241tico** por Ian Goodfellow e Yoshua Bengio\\n* **Modelos Generativos para Aprendizado de M\\303\\241quina** por Zoubin Ghahramani\\n\\n**Para Leitores Avan\\303\\247ados:**\\n\\n* **IA Generativa: Fundamentos, Teoria e Pr\\303\\241tica** por Tijmen Tieleman e Hessel Van Hasselt\\n* **Avan\\303\\247os em IA Generativa: Modelagem, Aprendizado e Aplicativos** por Yoshua Bengio, Samy Bengio e Aaron Courville\\n* **Processamento de Linguagem Natural com Transformadores: Uma Introdu\\303\\247\\303\\243o \\303\\240 IA Generativa para Texto** por Stephen Merity\\n\\nEsses livros fornecem uma compreens\\303\\243o abrangente dos conceitos, algoritmos e aplica\\303\\247\\303\\265es da IA generativa, variando de tutoriais para iniciantes a pesquisas avan\\303\\247adas.\"\n",
              " }\n",
              " role: \"model\",\n",
              " parts {\n",
              "   text: \"1\"\n",
              " }\n",
              " role: \"user\",\n",
              " parts {\n",
              "   text: \"1\"\n",
              " }\n",
              " role: \"model\",\n",
              " parts {\n",
              "   text: \"1\"\n",
              " }\n",
              " role: \"user\",\n",
              " parts {\n",
              "   text: \"1\"\n",
              " }\n",
              " role: \"model\",\n",
              " parts {\n",
              "   text: \"1\"\n",
              " }\n",
              " role: \"user\",\n",
              " parts {\n",
              "   text: \"1\"\n",
              " }\n",
              " role: \"model\",\n",
              " parts {\n",
              "   text: \"1\"\n",
              " }\n",
              " role: \"user\",\n",
              " parts {\n",
              "   text: \"1\"\n",
              " }\n",
              " role: \"model\",\n",
              " parts {\n",
              "   text: \"1\"\n",
              " }\n",
              " role: \"user\",\n",
              " parts {\n",
              "   text: \"1\"\n",
              " }\n",
              " role: \"model\",\n",
              " parts {\n",
              "   text: \"8:00\"\n",
              " }\n",
              " role: \"user\",\n",
              " parts {\n",
              "   text: \"8:00\"\n",
              " }\n",
              " role: \"model\",\n",
              " parts {\n",
              "   text: \"8:00\"\n",
              " }\n",
              " role: \"user\",\n",
              " parts {\n",
              "   text: \"8:00\"\n",
              " }\n",
              " role: \"model\",\n",
              " parts {\n",
              "   text: \"3\"\n",
              " }\n",
              " role: \"user\",\n",
              " parts {\n",
              "   text: \"3\"\n",
              " }\n",
              " role: \"model\",\n",
              " parts {\n",
              "   text: \"4\"\n",
              " }\n",
              " role: \"user\",\n",
              " parts {\n",
              "   text: \"4\"\n",
              " }\n",
              " role: \"model\",\n",
              " parts {\n",
              "   text: \"34\"\n",
              " }\n",
              " role: \"user\",\n",
              " parts {\n",
              "   text: \"34\"\n",
              " }\n",
              " role: \"model\",\n",
              " parts {\n",
              "   text: \"1\"\n",
              " }\n",
              " role: \"user\",\n",
              " parts {\n",
              "   text: \"1\"\n",
              " }\n",
              " role: \"model\",\n",
              " parts {\n",
              "   text: \"1\"\n",
              " }\n",
              " role: \"user\",\n",
              " parts {\n",
              "   text: \"1\"\n",
              " }\n",
              " role: \"model\",\n",
              " parts {\n",
              "   text: \"5\"\n",
              " }\n",
              " role: \"user\",\n",
              " parts {\n",
              "   text: \"5\"\n",
              " }\n",
              " role: \"model\",\n",
              " parts {\n",
              "   text: \"1\"\n",
              " }\n",
              " role: \"user\",\n",
              " parts {\n",
              "   text: \"1\"\n",
              " }\n",
              " role: \"model\",\n",
              " parts {\n",
              "   text: \"6\"\n",
              " }\n",
              " role: \"user\",\n",
              " parts {\n",
              "   text: \"6\"\n",
              " }\n",
              " role: \"model\",\n",
              " parts {\n",
              "   text: \"67\"\n",
              " }\n",
              " role: \"user\",\n",
              " parts {\n",
              "   text: \"67\"\n",
              " }\n",
              " role: \"model\",\n",
              " parts {\n",
              "   text: \"2\"\n",
              " }\n",
              " role: \"user\",\n",
              " parts {\n",
              "   text: \"2\"\n",
              " }\n",
              " role: \"model\",\n",
              " parts {\n",
              "   text: \"1\"\n",
              " }\n",
              " role: \"user\",\n",
              " parts {\n",
              "   text: \"1\"\n",
              " }\n",
              " role: \"model\",\n",
              " parts {\n",
              "   text: \"1\"\n",
              " }\n",
              " role: \"user\",\n",
              " parts {\n",
              "   text: \"1\"\n",
              " }\n",
              " role: \"model\",\n",
              " parts {\n",
              "   text: \"1\"\n",
              " }\n",
              " role: \"user\",\n",
              " parts {\n",
              "   text: \"1\"\n",
              " }\n",
              " role: \"model\",\n",
              " parts {\n",
              "   text: \"1\"\n",
              " }\n",
              " role: \"user\",\n",
              " parts {\n",
              "   text: \"1\"\n",
              " }\n",
              " role: \"model\"]"
            ]
          },
          "execution_count": 142,
          "metadata": {},
          "output_type": "execute_result"
        }
      ],
      "source": [
        "chat.history"
      ]
    }
  ],
  "metadata": {
    "colab": {
      "provenance": [],
      "authorship_tag": "ABX9TyOCk8uuMR+WPQbRzZq2IoXV",
      "include_colab_link": true
    },
    "kernelspec": {
      "display_name": "Python 3",
      "name": "python3"
    },
    "language_info": {
      "name": "python"
    }
  },
  "nbformat": 4,
  "nbformat_minor": 0
}